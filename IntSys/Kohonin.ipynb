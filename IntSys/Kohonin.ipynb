{
 "cells": [
  {
   "cell_type": "code",
   "execution_count": 1,
   "metadata": {},
   "outputs": [],
   "source": [
    "import random\n",
    "import numpy as np\n",
    "import matplotlib.pyplot as plt"
   ]
  },
  {
   "cell_type": "code",
   "execution_count": 2,
   "metadata": {},
   "outputs": [],
   "source": [
    "class Neuron:\n",
    "    \n",
    "    def __init__(self, size):\n",
    "        self.W = [random.random() for i in range(size)]\n",
    "        \n",
    "    def compute(self, X):\n",
    "        return sum([(w - x) ** 2 for w, x in zip(self.W, X)]) ** (1/2)\n",
    "    \n",
    "    def modification(self, X, n):\n",
    "        self.W = [w + n * (x - w) for w, x in zip(self.W, X)]"
   ]
  },
  {
   "cell_type": "code",
   "execution_count": 3,
   "metadata": {},
   "outputs": [],
   "source": [
    "class Web:\n",
    "    \n",
    "    def __init__(self, inp, hidden):\n",
    "        self.neurons = [Neuron(inp) for i in range(hidden)]\n",
    "        self.errors = [[0 for j in range(inp)] for i in range(hidden)]\n",
    "        self.e = 1\n",
    "    \n",
    "    def getW(self):\n",
    "        return [neuron.W.copy() for neuron in self.neurons]\n",
    "    \n",
    "    def err(self):\n",
    "        res = []\n",
    "        for l0, l1 in zip(self.errors, self.getW()):\n",
    "            res.append(sum([(e0 - e1) ** 2 for e0, e1 in zip(l0, l1)]) / len(l0))\n",
    "        self.errors = self.getW()\n",
    "        if max(res) != self.e:\n",
    "            self.e = max(res)\n",
    "            return True\n",
    "        else:      \n",
    "            return False\n",
    "    \n",
    "    def learn(self, X, alpha):\n",
    "        for x in X:\n",
    "            res = []\n",
    "            for neuron in self.neurons:\n",
    "                res.append(neuron.compute(x))\n",
    "            self.neurons[res.index(min(res))].modification(x, alpha)\n",
    "        alpha *= 0.9\n",
    "        \n",
    "    \n",
    "    def fit(self, X, n, epoch=0):\n",
    "        alpha = n\n",
    "        if epoch != 0:\n",
    "            for i in range(epoch):\n",
    "                self.learn(X, alpha)\n",
    "        else:\n",
    "            while(self.err()):\n",
    "                self.learn(X, alpha)\n",
    "            \n",
    "    def predict(self, X):\n",
    "        out = []\n",
    "        for x in X:\n",
    "            res = []\n",
    "            for neuron in self.neurons:\n",
    "                res.append(neuron.compute(x))\n",
    "            out.append(res)\n",
    "        return out\n",
    "    \n"
   ]
  },
  {
   "cell_type": "code",
   "execution_count": 4,
   "metadata": {},
   "outputs": [],
   "source": [
    "x = []\n",
    "y = []\n",
    "for i in range(50):\n",
    "    x.append(random.random())\n",
    "    y.append(random.random())\n",
    "dots = np.array([x, y]).tolist()"
   ]
  },
  {
   "cell_type": "code",
   "execution_count": null,
   "metadata": {},
   "outputs": [],
   "source": []
  },
  {
   "cell_type": "code",
   "execution_count": null,
   "metadata": {},
   "outputs": [],
   "source": []
  },
  {
   "cell_type": "code",
   "execution_count": 6,
   "metadata": {},
   "outputs": [
    {
     "data": {
      "text/plain": [
       "[<matplotlib.lines.Line2D at 0x1a33a7dbec8>]"
      ]
     },
     "execution_count": 6,
     "metadata": {},
     "output_type": "execute_result"
    },
    {
     "data": {
      "image/png": "[encoded data removed]",
      "text/plain": [
       "<Figure size 432x288 with 1 Axes>"
      ]
     },
     "metadata": {
      "needs_background": "light"
     },
     "output_type": "display_data"
    }
   ],
   "source": [
    "web = Web(2, 4)\n",
    "centres = web.getW()\n",
    "centres = np.array(centres).transpose().tolist()\n",
    "plt.plot(dots[0], dots[1], 'o')\n",
    "plt.plot(centres[0], centres[1], 'o')"
   ]
  },
  {
   "cell_type": "code",
   "execution_count": 7,
   "metadata": {},
   "outputs": [],
   "source": [
    "fit_dots = np.array(dots).transpose().tolist()\n",
    "web.fit(fit_dots, 1)"
   ]
  },
  {
   "cell_type": "code",
   "execution_count": 8,
   "metadata": {},
   "outputs": [
    {
     "data": {
      "text/plain": [
       "[<matplotlib.lines.Line2D at 0x1a33ddc2348>]"
      ]
     },
     "execution_count": 8,
     "metadata": {},
     "output_type": "execute_result"
    },
    {
     "data": {
      "image/png": "[encoded data removed]",
      "text/plain": [
       "<Figure size 432x288 with 1 Axes>"
      ]
     },
     "metadata": {
      "needs_background": "light"
     },
     "output_type": "display_data"
    }
   ],
   "source": [
    "centres = web.getW()\n",
    "centres = np.array(centres).transpose().tolist()\n",
    "plt.plot(dots[0], dots[1], 'o')\n",
    "plt.plot(centres[0], centres[1], 'o')"
   ]
  },
  {
   "cell_type": "code",
   "execution_count": null,
   "metadata": {},
   "outputs": [],
   "source": []
  },
  {
   "cell_type": "code",
   "execution_count": null,
   "metadata": {},
   "outputs": [],
   "source": []
  }
 ],
 "metadata": {
  "kernelspec": {
   "display_name": "Python 3",
   "language": "python",
   "name": "python3"
  },
  "language_info": {
   "codemirror_mode": {
    "name": "ipython",
    "version": 3
   },
   "file_extension": ".py",
   "mimetype": "text/x-python",
   "name": "python",
   "nbconvert_exporter": "python",
   "pygments_lexer": "ipython3",
   "version": "3.7.5"
  }
 },
 "nbformat": 4,
 "nbformat_minor": 2
}
