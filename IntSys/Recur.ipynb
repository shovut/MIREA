{
 "cells": [
  {
   "cell_type": "code",
   "execution_count": 4,
   "metadata": {},
   "outputs": [],
   "source": [
    "import random\n",
    "\n",
    "class Hopfild:\n",
    "    \n",
    "    def __init__(self, inp, maxiter):\n",
    "        self.n = inp\n",
    "        self.W = [[0 for i in range(self.n)] for j in range(self.n)]\n",
    "        self.shape = []\n",
    "        self.maxiter = maxiter\n",
    "        self.junkiter = 0\n",
    "        \n",
    "    def fit(self, X):\n",
    "        self.shape = X.copy()\n",
    "        for x in X:\n",
    "            for i in range(0,self.n):\n",
    "                for j in range(0,self.n):\n",
    "                    if (i == j):\n",
    "                        self.W[i][j] = 0\n",
    "                    else:\n",
    "                        self.W[i][j] += x[i] * x[j]\n",
    "    \n",
    "    def sgn(self, net):\n",
    "        return 1 if net > 0 else -1\n",
    "    \n",
    "    def recstep(self):\n",
    "        signum = self.sgn\n",
    "        r = random.randrange(0, self.n, 1)\n",
    "        net = 0\n",
    "        for i in range(0, self.n):\n",
    "            net += self.Y[i] * self.W[i][r]\n",
    "        signet = signum(net)\n",
    "        if signet != self.Y[r]: \n",
    "            self.Y[r] = signet\n",
    "            \n",
    "            self.junkiter = 0\n",
    "        else:\n",
    "            self.junkiter += 1\n",
    "    \n",
    "    def predict(self, Y):\n",
    "        res = []\n",
    "        for y in Y:\n",
    "            self.Y = y.copy()\n",
    "            it = 0\n",
    "            while(self.shape.count(self.Y) == 0):\n",
    "                self.recstep()\n",
    "                it += 1\n",
    "                if self.junkiter >= self.maxiter:\n",
    "                    vec =  (False, self.Y, it)\n",
    "            vec = (True, self.Y, it)\n",
    "            res.append(vec)\n",
    "        return res"
   ]
  },
  {
   "cell_type": "code",
   "execution_count": 5,
   "metadata": {},
   "outputs": [],
   "source": [
    "class Data:\n",
    "    \n",
    "    inputL = [\n",
    "        [-1, -1, 1, 1, -1, -1, 1, -1, -1, 1, -1, 1, -1, -1, -1, -1, 1, -1, -1, -1, -1, 1, -1, -1, 1, -1, -1, 1, 1, -1],\n",
    "        [-1, 1, 1, 1, -1, -1, -1, 1, -1, -1, -1, -1, 1, -1, -1, -1, -1, 1, -1, -1, -1, -1, 1, -1, -1, -1, 1, 1, 1, -1],\n",
    "        [-1, -1, -1, -1, 1, -1, -1, -1, -1, 1, -1, -1, -1, -1, 1, -1, 1, -1, -1, 1, -1, 1, -1, -1, 1, -1, -1, 1, 1, -1],\n",
    "    ]\n",
    "    \n",
    "    inputT = [\n",
    "        [-1, -1, 1, 1, 1, -1, 1, -1, -1, 1, -1, 1, -1, -1, -1, -1, 1, -1, -1, -1, -1, 1, -1, -1, 1, -1, -1, 1, 1, 1],\n",
    "        [-1, 1, 1, -1, -1, -1, -1, 1, -1, -1, -1, -1, 1, -1, -1, -1, -1, 1, -1, -1, -1, -1, 1, -1, -1, -1, 1, 1, -1, -1],\n",
    "        [-1, -1, -1, -1, -1, -1, -1, -1, -1, 1, -1, -1, -1, -1, 1, -1, -1, -1, -1, 1, -1, 1, -1, -1, 1, -1, -1, 1, 1, 1],\n",
    "    ]"
   ]
  },
  {
   "cell_type": "code",
   "execution_count": 6,
   "metadata": {},
   "outputs": [],
   "source": [
    "web = Hopfild(30, 200)"
   ]
  },
  {
   "cell_type": "code",
   "execution_count": 7,
   "metadata": {},
   "outputs": [],
   "source": [
    "web.fit(Data.inputL)"
   ]
  },
  {
   "cell_type": "code",
   "execution_count": 8,
   "metadata": {},
   "outputs": [],
   "source": [
    "\n",
    "res = web.predict(Data.inputT)"
   ]
  },
  {
   "cell_type": "code",
   "execution_count": 9,
   "metadata": {},
   "outputs": [],
   "source": [
    "image = 0"
   ]
  },
  {
   "cell_type": "code",
   "execution_count": 10,
   "metadata": {},
   "outputs": [
    {
     "data": {
      "text/plain": [
       "array([['_', '_', '#', '#', '_'],\n",
       "       ['_', '#', '_', '_', '#'],\n",
       "       ['_', '#', '_', '_', '_'],\n",
       "       ['_', '#', '_', '_', '_'],\n",
       "       ['_', '#', '_', '_', '#'],\n",
       "       ['_', '_', '#', '#', '_']], dtype='<U1')"
      ]
     },
     "execution_count": 10,
     "metadata": {},
     "output_type": "execute_result"
    }
   ],
   "source": [
    "import numpy as np \n",
    "\n",
    "a = ['_' if x == -1 else '#' for x in res[image][1]]\n",
    "a = np.array(a).reshape(6, 5)\n",
    "a"
   ]
  },
  {
   "cell_type": "code",
   "execution_count": 11,
   "metadata": {},
   "outputs": [
    {
     "data": {
      "text/plain": [
       "array([['_', '_', '#', '#', '_'],\n",
       "       ['_', '#', '_', '_', '#'],\n",
       "       ['_', '#', '_', '_', '_'],\n",
       "       ['_', '#', '_', '_', '_'],\n",
       "       ['_', '#', '_', '_', '#'],\n",
       "       ['_', '_', '#', '#', '_']], dtype='<U1')"
      ]
     },
     "execution_count": 11,
     "metadata": {},
     "output_type": "execute_result"
    }
   ],
   "source": [
    "b = ['_' if x == -1 else '#' for x in Data.inputL[image]]\n",
    "b = np.array(b).reshape(6, 5)\n",
    "b"
   ]
  },
  {
   "cell_type": "code",
   "execution_count": 12,
   "metadata": {},
   "outputs": [
    {
     "data": {
      "text/plain": [
       "array([['_', '_', '#', '#', '#'],\n",
       "       ['_', '#', '_', '_', '#'],\n",
       "       ['_', '#', '_', '_', '_'],\n",
       "       ['_', '#', '_', '_', '_'],\n",
       "       ['_', '#', '_', '_', '#'],\n",
       "       ['_', '_', '#', '#', '#']], dtype='<U1')"
      ]
     },
     "execution_count": 12,
     "metadata": {},
     "output_type": "execute_result"
    }
   ],
   "source": [
    "c = ['_' if x == -1 else '#' for x in Data.inputT[image]]\n",
    "c = np.array(c).reshape(6, 5)\n",
    "c"
   ]
  },
  {
   "cell_type": "code",
   "execution_count": 13,
   "metadata": {},
   "outputs": [
    {
     "data": {
      "text/plain": [
       "True"
      ]
     },
     "execution_count": 13,
     "metadata": {},
     "output_type": "execute_result"
    }
   ],
   "source": [
    "res[image][1] == Data.inputL[image]"
   ]
  },
  {
   "cell_type": "code",
   "execution_count": null,
   "metadata": {},
   "outputs": [],
   "source": []
  }
 ],
 "metadata": {
  "kernelspec": {
   "display_name": "Python 3",
   "language": "python",
   "name": "python3"
  },
  "language_info": {
   "codemirror_mode": {
    "name": "ipython",
    "version": 3
   },
   "file_extension": ".py",
   "mimetype": "text/x-python",
   "name": "python",
   "nbconvert_exporter": "python",
   "pygments_lexer": "ipython3",
   "version": "3.7.5"
  }
 },
 "nbformat": 4,
 "nbformat_minor": 2
}
