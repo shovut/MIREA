{
 "cells": [
  {
   "cell_type": "code",
   "execution_count": 4,
   "metadata": {},
   "outputs": [],
   "source": [
    "import simple\n",
    "def func(p):\n",
    "    \n",
    "    for i in range(1, int((p-1) ** 0.5)):\n",
    "        if pow(i, p-1, p) == 1:\n",
    "            flag = True\n",
    "            for j in range(1, p-1):\n",
    "                if pow(i, j, p) == 1:\n",
    "                    flag = False\n",
    "                    break\n",
    "            if flag == False:\n",
    "                continue\n",
    "            return i\n",
    "        \n",
    "    return -1"
   ]
  },
  {
   "cell_type": "code",
   "execution_count": 58,
   "metadata": {},
   "outputs": [],
   "source": [
    "def gcdex(a, b):\n",
    "    if b == 0:\n",
    "        return a, 1, 0\n",
    "    else:\n",
    "        d, x, y = gcdex(b, a % b)\n",
    "        #print(d, x, y)\n",
    "        return d, y, x - y * (a // b)\n",
    "    \n",
    "def calcD(e, f):\n",
    "    i = -1\n",
    "    while(True):\n",
    "        i += 1\n",
    "        d = (1 + i * f) // e\n",
    "        #print('d :', d, 'i :', i , 'f :', f, 'e :', e)\n",
    "        if (((e * d) % f) == 1):\n",
    "            return d\n",
    "        \n",
    "    "
   ]
  },
  {
   "cell_type": "code",
   "execution_count": 81,
   "metadata": {},
   "outputs": [
    {
     "name": "stdout",
     "output_type": "stream",
     "text": [
      "p : 703354830634499969\n",
      "q : 826825376579977217\n",
      "n : 581551622708716532675316980207206273\n",
      "f : 581551622708716531145136772992729088\n",
      "e : 3\n",
      "d : 387701081805811020763424515328486059\n",
      "Открытый ключ (e, n) : (3, 581551622708716532675316980207206273)\n",
      "Закрытый ключ (d, n) : (387701081805811020763424515328486059, 581551622708716532675316980207206273)\n"
     ]
    }
   ],
   "source": [
    "p = simple.simpleNum(60)\n",
    "q = simple.simpleNum(60)\n",
    "n = p*q\n",
    "\n",
    "f = (p-1)*(q-1)\n",
    "e = 0\n",
    "for i in range (2, f):\n",
    "    if gcdex(i, f)[0] == 1:\n",
    "        e = i\n",
    "        break\n",
    "d = calcD(e, f)\n",
    "print('p :', p)\n",
    "print('q :', q)\n",
    "print('n :', n)\n",
    "print('f :', f)\n",
    "print('e :', e)\n",
    "print('d :', d)\n",
    "print('Открытый ключ (e, n) :', (e, n))\n",
    "print('Закрытый ключ (d, n) :', (d, n))"
   ]
  },
  {
   "cell_type": "code",
   "execution_count": 82,
   "metadata": {},
   "outputs": [
    {
     "data": {
      "text/plain": [
       "[84701108857122412794430191792586021,\n",
       " 244453825914375418594783998412462532,\n",
       " 109636467919231710196859899792071584,\n",
       " 21725486287849166260223589803671762,\n",
       " 312321834202530807897289670216553543,\n",
       " 288232050480510246243084763281221195,\n",
       " 571455932674478093202594226685483,\n",
       " 236573505175473900486057824243167823,\n",
       " 472890886388911434980677935882578557,\n",
       " 83554698343816163290085324414072549]"
      ]
     },
     "execution_count": 82,
     "metadata": {},
     "output_type": "execute_result"
    }
   ],
   "source": [
    "import random as rd\n",
    "text = []\n",
    "for i in range(10):\n",
    "    text.append(rd.randint(0, n-1))\n",
    "text"
   ]
  },
  {
   "cell_type": "code",
   "execution_count": 83,
   "metadata": {},
   "outputs": [
    {
     "data": {
      "text/plain": [
       "[446519429873105004824328593075719366,\n",
       " 521339522977047975398713550726696283,\n",
       " 278443296012342944505934021157014073,\n",
       " 395255758587170248815957036625032679,\n",
       " 376189842648670757210816679831111796,\n",
       " 87241983595784124985700037730399215,\n",
       " 330032400901615799878899478094322190,\n",
       " 349418029428094635770325117732957640,\n",
       " 401013915555426875344468472299380119,\n",
       " 161006424544741720544404785475648630]"
      ]
     },
     "execution_count": 83,
     "metadata": {},
     "output_type": "execute_result"
    }
   ],
   "source": [
    "# шифрование\n",
    "RSAtext = list(map(lambda x : pow(x, e, n) , text))\n",
    "RSAtext"
   ]
  },
  {
   "cell_type": "code",
   "execution_count": 84,
   "metadata": {},
   "outputs": [
    {
     "data": {
      "text/plain": [
       "[84701108857122412794430191792586021,\n",
       " 244453825914375418594783998412462532,\n",
       " 109636467919231710196859899792071584,\n",
       " 21725486287849166260223589803671762,\n",
       " 312321834202530807897289670216553543,\n",
       " 288232050480510246243084763281221195,\n",
       " 571455932674478093202594226685483,\n",
       " 236573505175473900486057824243167823,\n",
       " 472890886388911434980677935882578557,\n",
       " 83554698343816163290085324414072549]"
      ]
     },
     "execution_count": 84,
     "metadata": {},
     "output_type": "execute_result"
    }
   ],
   "source": [
    "# расшифровка\n",
    "desRSAtext = list(map(lambda x : pow(x, d, n) , RSAtext))\n",
    "desRSAtext"
   ]
  },
  {
   "cell_type": "code",
   "execution_count": 85,
   "metadata": {},
   "outputs": [
    {
     "data": {
      "text/plain": [
       "True"
      ]
     },
     "execution_count": 85,
     "metadata": {},
     "output_type": "execute_result"
    }
   ],
   "source": [
    "text == desRSAtext"
   ]
  },
  {
   "cell_type": "code",
   "execution_count": null,
   "metadata": {},
   "outputs": [],
   "source": []
  }
 ],
 "metadata": {
  "kernelspec": {
   "display_name": "Python 3",
   "language": "python",
   "name": "python3"
  },
  "language_info": {
   "codemirror_mode": {
    "name": "ipython",
    "version": 3
   },
   "file_extension": ".py",
   "mimetype": "text/x-python",
   "name": "python",
   "nbconvert_exporter": "python",
   "pygments_lexer": "ipython3",
   "version": "3.7.3"
  }
 },
 "nbformat": 4,
 "nbformat_minor": 2
}
