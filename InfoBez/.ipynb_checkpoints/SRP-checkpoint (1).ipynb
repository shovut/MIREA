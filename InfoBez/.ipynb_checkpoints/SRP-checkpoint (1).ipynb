{
 "cells": [
  {
   "cell_type": "code",
   "execution_count": 38,
   "metadata": {},
   "outputs": [],
   "source": [
    "import hashlib\n",
    "import random\n",
    "#import simple\n",
    "\n",
    "H = hashlib.sha256\n",
    "\n",
    "def H(*args):  \n",
    "    a = ':'.join(str(a) for a in args)\n",
    "    return int(hashlib.sha256(a.encode('utf-8')).hexdigest(), 16)\n",
    "\n",
    "def cryptrand(n=1024):\n",
    "    return random.SystemRandom().getrandbits(n) % N\n",
    "\n",
    "def isPrime(n):\n",
    "    if n % 2 == 0:\n",
    "        return n == 2\n",
    "    d = 3\n",
    "    while d * d <= n and n % d != 0:\n",
    "        d += 2\n",
    "    return d * d > n\n",
    "\n",
    "def generator(N):\n",
    "    p = N-1\n",
    "    q = 0\n",
    "    j = 0\n",
    "    for i in range(2, N, 2):\n",
    "        if isPrime(p//i):\n",
    "            q = p//i\n",
    "            j = i\n",
    "            break\n",
    "    for h in range(2, p):\n",
    "        g = pow(h, j, N)\n",
    "        if g > 1:\n",
    "            return g\n",
    "  \n"
   ]
  },
  {
   "cell_type": "code",
   "execution_count": 39,
   "metadata": {},
   "outputs": [
    {
     "data": {
      "text/plain": [
       "True"
      ]
     },
     "execution_count": 39,
     "metadata": {},
     "output_type": "execute_result"
    }
   ],
   "source": [
    "N = 887\n",
    "q = (N-1)/2\n",
    "isPrime(q)\n"
   ]
  },
  {
   "cell_type": "code",
   "execution_count": 40,
   "metadata": {},
   "outputs": [
    {
     "name": "stdout",
     "output_type": "stream",
     "text": [
      "4\n"
     ]
    }
   ],
   "source": [
    "g = generator(N)\n",
    "print(g)"
   ]
  },
  {
   "cell_type": "code",
   "execution_count": 41,
   "metadata": {},
   "outputs": [
    {
     "data": {
      "text/plain": [
       "113770315808267398092799873116254538392936008330421184078064196914872250528161"
      ]
     },
     "execution_count": 41,
     "metadata": {},
     "output_type": "execute_result"
    }
   ],
   "source": [
    "k = H(N, g)\n",
    "k"
   ]
  },
  {
   "cell_type": "code",
   "execution_count": 49,
   "metadata": {},
   "outputs": [],
   "source": [
    "I = \"person\"         # Username\n",
    "p = \"password1234\"   # Password\n",
    "s = cryptrand(64)    # Salt for the user\n",
    "x = H(s, I, p)       # Private key\n",
    "v = pow(g, x, N)     # Password verifier"
   ]
  },
  {
   "cell_type": "code",
   "execution_count": 50,
   "metadata": {
    "collapsed": true
   },
   "outputs": [],
   "source": [
    "a = cryptrand()\n",
    "A = pow(g, a, N)"
   ]
  },
  {
   "cell_type": "code",
   "execution_count": 51,
   "metadata": {
    "collapsed": true
   },
   "outputs": [],
   "source": [
    "b = cryptrand()\n",
    "B = (k * v + pow(g, b, N)) % N"
   ]
  },
  {
   "cell_type": "code",
   "execution_count": 52,
   "metadata": {
    "collapsed": true
   },
   "outputs": [],
   "source": [
    "u = H(A, B)"
   ]
  },
  {
   "cell_type": "code",
   "execution_count": 53,
   "metadata": {
    "collapsed": true
   },
   "outputs": [],
   "source": [
    "x = H(s, I, p)\n",
    "S_c = pow(B - k * pow(g, x, N), a + u * x, N)\n",
    "K_c = H(S_c)"
   ]
  },
  {
   "cell_type": "code",
   "execution_count": 54,
   "metadata": {
    "collapsed": true
   },
   "outputs": [],
   "source": [
    "S_s = pow(A * pow(v, u, N), b, N)\n",
    "K_s = H(S_s)"
   ]
  },
  {
   "cell_type": "code",
   "execution_count": 55,
   "metadata": {},
   "outputs": [],
   "source": [
    "M_c = H(H(N) ^ H(g), H(I), s, A, B, K_c)"
   ]
  },
  {
   "cell_type": "code",
   "execution_count": 56,
   "metadata": {
    "collapsed": true
   },
   "outputs": [],
   "source": [
    "M_s = H(A, M_c, K_s)"
   ]
  },
  {
   "cell_type": "code",
   "execution_count": 57,
   "metadata": {},
   "outputs": [
    {
     "name": "stdout",
     "output_type": "stream",
     "text": [
      "67381145494494987891811860607665108148222677111605448311007027647321110147961\n",
      "67381145494494987891811860607665108148222677111605448311007027647321110147961\n"
     ]
    }
   ],
   "source": [
    "print(K_s)\n",
    "print(K_c)"
   ]
  },
  {
   "cell_type": "code",
   "execution_count": null,
   "metadata": {
    "collapsed": true
   },
   "outputs": [],
   "source": []
  }
 ],
 "metadata": {
  "kernelspec": {
   "display_name": "Python 3",
   "language": "python",
   "name": "python3"
  },
  "language_info": {
   "codemirror_mode": {
    "name": "ipython",
    "version": 3
   },
   "file_extension": ".py",
   "mimetype": "text/x-python",
   "name": "python",
   "nbconvert_exporter": "python",
   "pygments_lexer": "ipython3",
   "version": "3.6.2"
  }
 },
 "nbformat": 4,
 "nbformat_minor": 2
}
