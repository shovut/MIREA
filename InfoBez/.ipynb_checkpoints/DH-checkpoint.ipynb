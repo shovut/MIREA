{
 "cells": [
  {
   "cell_type": "code",
   "execution_count": 55,
   "metadata": {},
   "outputs": [],
   "source": [
    "import random as rd\n",
    "import simple\n",
    "def func(p):\n",
    "    \n",
    "    for i in range(2, int((p-1) ** 0.5)):\n",
    "        if pow(i, p-1, p) == 1:\n",
    "            flag = True\n",
    "            for j in range(1, p-1):\n",
    "                if pow(i, j, p) == 1:\n",
    "                    flag = False\n",
    "                    break\n",
    "            if flag == False:\n",
    "                continue\n",
    "            return i\n",
    "        \n",
    "    return -1\n"
   ]
  },
  {
   "cell_type": "code",
   "execution_count": 57,
   "metadata": {},
   "outputs": [
    {
     "name": "stdout",
     "output_type": "stream",
     "text": [
      "p : 907513\n",
      "g : 5\n",
      "a : 92215816315050649692287488850832111868963100598772689043006373172019490335001287967898708205074206930\n",
      "b : 22334887773050031055803773145430105887100999938876498851973293956499082448790064947723959049831078578\n"
     ]
    }
   ],
   "source": [
    "#p = rd.randint(10**300, 10**301)\n",
    "p = simple.simpleNum(20)\n",
    "g = func(p)\n",
    "\n",
    "a = rd.randint(10**100, 10**101)\n",
    "b = rd.randint(10**100, 10**101)\n",
    "#a = rd.randint(10**3, 10**4)\n",
    "#b = rd.randint(10**3, 10**4)\n",
    "print('p :', p)\n",
    "print('g :', g)\n",
    "print('a :', a)\n",
    "print('b :', b)\n"
   ]
  },
  {
   "cell_type": "code",
   "execution_count": 58,
   "metadata": {},
   "outputs": [
    {
     "name": "stdout",
     "output_type": "stream",
     "text": [
      "A : 482628\n",
      "B : 720507\n"
     ]
    }
   ],
   "source": [
    "A = pow(g, a, p)\n",
    "print('A :', A)\n",
    "B = pow(g, b, p)\n",
    "print('B :', B)\n"
   ]
  },
  {
   "cell_type": "code",
   "execution_count": 59,
   "metadata": {},
   "outputs": [
    {
     "name": "stdout",
     "output_type": "stream",
     "text": [
      "Ka : 279850\n",
      "Kb : 279850\n"
     ]
    }
   ],
   "source": [
    "Ka = pow(B, a, p)\n",
    "print('Ka :', Ka)\n",
    "Kb = pow(A, b, p)\n",
    "print('Kb :', Kb)"
   ]
  },
  {
   "cell_type": "code",
   "execution_count": null,
   "metadata": {},
   "outputs": [],
   "source": []
  },
  {
   "cell_type": "code",
   "execution_count": null,
   "metadata": {},
   "outputs": [],
   "source": []
  }
 ],
 "metadata": {
  "kernelspec": {
   "display_name": "Python 3",
   "language": "python",
   "name": "python3"
  },
  "language_info": {
   "codemirror_mode": {
    "name": "ipython",
    "version": 3
   },
   "file_extension": ".py",
   "mimetype": "text/x-python",
   "name": "python",
   "nbconvert_exporter": "python",
   "pygments_lexer": "ipython3",
   "version": "3.7.3"
  }
 },
 "nbformat": 4,
 "nbformat_minor": 2
}
