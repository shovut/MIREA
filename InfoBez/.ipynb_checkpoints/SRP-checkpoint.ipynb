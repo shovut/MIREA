{
 "cells": [
  {
   "cell_type": "code",
   "execution_count": 44,
   "metadata": {},
   "outputs": [],
   "source": [
    "import hashlib\n",
    "import random\n",
    "import simple\n",
    "\n",
    "H = hashlib.sha256\n",
    "\n",
    "def H(*args):  \n",
    "    a = ':'.join(str(a) for a in args)\n",
    "    return int(hashlib.sha256(a.encode('utf-8')).hexdigest(), 16)\n",
    "\n",
    "def cryptrand(n=1024):\n",
    "    return random.SystemRandom().getrandbits(n) % N\n",
    "\n",
    "def isPrime(n):\n",
    "    if n % 2 == 0:\n",
    "        return n == 2\n",
    "    d = 3\n",
    "    while d * d <= n and n % d != 0:\n",
    "        d += 2\n",
    "    return d * d > n\n",
    "\n",
    "def generator(N):\n",
    "    p = N-1\n",
    "    q = 0\n",
    "    j = 0\n",
    "    for i in range(2, N, 2):\n",
    "        if isPrime(p//i):\n",
    "            q = p//i\n",
    "            j = i\n",
    "            break\n",
    "    for h in range(2, p):\n",
    "        g = pow(h, j, N)\n",
    "        if g > 1:\n",
    "            return g\n",
    "  \n"
   ]
  },
  {
   "cell_type": "code",
   "execution_count": 59,
   "metadata": {},
   "outputs": [
    {
     "name": "stdout",
     "output_type": "stream",
     "text": [
      "694886463273083\n",
      "347443231636541\n"
     ]
    }
   ],
   "source": [
    "N = 0\n",
    "q = 0\n",
    "while(True):\n",
    "    N = simple.simpleNum(50)\n",
    "    q = (N-1)//2\n",
    "    if isPrime(q):\n",
    "        break\n",
    "print(N)\n",
    "print(q)"
   ]
  },
  {
   "cell_type": "code",
   "execution_count": 60,
   "metadata": {},
   "outputs": [
    {
     "name": "stdout",
     "output_type": "stream",
     "text": [
      "4\n"
     ]
    }
   ],
   "source": [
    "g = generator(N)\n",
    "print(g)"
   ]
  },
  {
   "cell_type": "code",
   "execution_count": 61,
   "metadata": {},
   "outputs": [
    {
     "data": {
      "text/plain": [
       "73941764427541727585766948720092387360520602990087869046095446434437179334183"
      ]
     },
     "execution_count": 61,
     "metadata": {},
     "output_type": "execute_result"
    }
   ],
   "source": [
    "# параметр\n",
    "k = H(N, g)\n",
    "k"
   ]
  },
  {
   "cell_type": "code",
   "execution_count": 62,
   "metadata": {},
   "outputs": [],
   "source": [
    "# the server must first generate the password verifier\n",
    "I = \"YMandron\"         # Username\n",
    "p = \"qwerty123456\"   # Password\n",
    "\n",
    "s = cryptrand(64)    # Salt for the user\n",
    "x = H(s, I, p)       # Private key\n",
    "v = pow(g, x, N)     # Password verifier"
   ]
  },
  {
   "cell_type": "code",
   "execution_count": 63,
   "metadata": {},
   "outputs": [],
   "source": [
    "# 1. client sends username I and public ephemeral value A to the server\n",
    "a = cryptrand()\n",
    "A = pow(g, a, N)"
   ]
  },
  {
   "cell_type": "code",
   "execution_count": 64,
   "metadata": {},
   "outputs": [],
   "source": [
    "# 2. server sends user's salt s and public ephemeral value B to client\n",
    "b = cryptrand()\n",
    "B = (k * v + pow(g, b, N)) % N"
   ]
  },
  {
   "cell_type": "code",
   "execution_count": 65,
   "metadata": {},
   "outputs": [],
   "source": [
    "# 3. client and server calculate the random scrambling parameter\n",
    "u = H(A, B)"
   ]
  },
  {
   "cell_type": "code",
   "execution_count": 66,
   "metadata": {},
   "outputs": [],
   "source": [
    "# 4. client computes session key\n",
    "x = H(s, I, p)\n",
    "S_c = pow(B - k * pow(g, x, N), a + u * x, N)\n",
    "K_c = H(S_c)"
   ]
  },
  {
   "cell_type": "code",
   "execution_count": 67,
   "metadata": {},
   "outputs": [],
   "source": [
    "# 5. server computes session key\n",
    "S_s = pow(A * pow(v, u, N), b, N)\n",
    "K_s = H(S_s)"
   ]
  },
  {
   "cell_type": "code",
   "execution_count": 68,
   "metadata": {},
   "outputs": [],
   "source": [
    "# 6. client sends proof of session key to server\n",
    "M_c = H(H(N) ^ H(g), H(I), s, A, B, K_c)"
   ]
  },
  {
   "cell_type": "code",
   "execution_count": 69,
   "metadata": {},
   "outputs": [],
   "source": [
    "# 7. server sends proof of session key to client\n",
    "M_s = H(A, M_c, K_s)"
   ]
  },
  {
   "cell_type": "code",
   "execution_count": 70,
   "metadata": {},
   "outputs": [
    {
     "name": "stdout",
     "output_type": "stream",
     "text": [
      "61052546598754862816887244092662914807473740382133124215407061157203671146200\n",
      "61052546598754862816887244092662914807473740382133124215407061157203671146200\n"
     ]
    }
   ],
   "source": [
    "print(K_s)\n",
    "print(K_c)"
   ]
  },
  {
   "cell_type": "code",
   "execution_count": 71,
   "metadata": {},
   "outputs": [
    {
     "name": "stdout",
     "output_type": "stream",
     "text": [
      "26666070696603291072888954881374367892974139720031876446123807554019995449155\n",
      "104303472649190640946466945081202738430490900814345422549886838598488183456079\n"
     ]
    }
   ],
   "source": [
    "print(M_s)\n",
    "print(M_c)"
   ]
  },
  {
   "cell_type": "code",
   "execution_count": 72,
   "metadata": {},
   "outputs": [
    {
     "name": "stdout",
     "output_type": "stream",
     "text": [
      "26666070696603291072888954881374367892974139720031876446123807554019995449155\n",
      "87790813410653586566866177426080354711919584762870212193541917242306673217920\n"
     ]
    }
   ],
   "source": [
    "print(H(A, M_c, K_c))\n",
    "print(H(B, M_s, K_s))"
   ]
  },
  {
   "cell_type": "code",
   "execution_count": null,
   "metadata": {},
   "outputs": [],
   "source": []
  },
  {
   "cell_type": "code",
   "execution_count": null,
   "metadata": {},
   "outputs": [],
   "source": []
  }
 ],
 "metadata": {
  "kernelspec": {
   "display_name": "Python 3",
   "language": "python",
   "name": "python3"
  },
  "language_info": {
   "codemirror_mode": {
    "name": "ipython",
    "version": 3
   },
   "file_extension": ".py",
   "mimetype": "text/x-python",
   "name": "python",
   "nbconvert_exporter": "python",
   "pygments_lexer": "ipython3",
   "version": "3.7.3"
  }
 },
 "nbformat": 4,
 "nbformat_minor": 2
}
